{
 "cells": [
  {
   "cell_type": "markdown",
   "metadata": {},
   "source": [
    "BASIC LEVEL\n",
    "PART 1: Read in the file with csv.reader() and store it in an object called 'file_nested_list'."
   ]
  },
  {
   "cell_type": "code",
   "execution_count": 9,
   "metadata": {
    "collapsed": false
   },
   "outputs": [],
   "source": [
    "import csv\n",
    "\n",
    "with open ('./chipotle.tsv', 'rU') as raw_file:\n",
    "    file_nested_list = [row for row in csv.reader(raw_file, delimiter = '\\t')]\n"
   ]
  },
  {
   "cell_type": "markdown",
   "metadata": {},
   "source": [
    "BASIC LEVEL\n",
    "PART 2: Separate 'file_nested_list' into the 'header' and the 'data'.\n",
    "  "
   ]
  },
  {
   "cell_type": "code",
   "execution_count": 11,
   "metadata": {
    "collapsed": true
   },
   "outputs": [],
   "source": [
    "chipotle_header = file_nested_list[0]\n",
    "\n",
    "chipotle_data = file_nested_list[1:]"
   ]
  },
  {
   "cell_type": "code",
   "execution_count": 15,
   "metadata": {
    "collapsed": false
   },
   "outputs": [
    {
     "name": "stdout",
     "output_type": "stream",
     "text": [
      "['order_id', 'quantity', 'item_name', 'choice_description', 'item_price']\n",
      "[['1', '1', 'Chips and Fresh Tomato Salsa', 'NULL', '$2.39 '], ['1', '1', 'Izze', '[Clementine]', '$3.39 '], ['1', '1', 'Nantucket Nectar', '[Apple]', '$3.39 '], ['1', '1', 'Chips and Tomatillo-Green Chili Salsa', 'NULL', '$2.39 '], ['2', '2', 'Chicken Bowl', '[Tomatillo-Red Chili Salsa (Hot), [Black Beans, Rice, Cheese, Sour Cream]]', '$16.98 ']]\n"
     ]
    }
   ],
   "source": [
    "print chipotle_header\n",
    "\n",
    "print chipotle_data[0:5]"
   ]
  },
  {
   "cell_type": "markdown",
   "metadata": {},
   "source": [
    "INTERMEDIATE LEVEL\n",
    "PART 3: Calculate the average price of an order."
   ]
  },
  {
   "cell_type": "markdown",
   "metadata": {},
   "source": [
    "* create a list of prices"
   ]
  },
  {
   "cell_type": "code",
   "execution_count": 56,
   "metadata": {
    "collapsed": false
   },
   "outputs": [
    {
     "name": "stdout",
     "output_type": "stream",
     "text": [
      "[2.39, 3.39, 3.39, 2.39, 33.96]\n"
     ]
    }
   ],
   "source": [
    "item_cost=[]\n",
    "\n",
    "for row in chipotle_data:\n",
    "    item_cost.append(int(row[1]) * float(row[4].replace('$','')))\n",
    "## creates a list where each item is the number of items * the cost of that item. Not by order, by item. \n",
    "##Final output is float\n",
    "print item_cost[0:5]"
   ]
  },
  {
   "cell_type": "markdown",
   "metadata": {},
   "source": [
    "* count the number of unique order_id's\n"
   ]
  },
  {
   "cell_type": "code",
   "execution_count": 71,
   "metadata": {
    "collapsed": false
   },
   "outputs": [
    {
     "name": "stdout",
     "output_type": "stream",
     "text": [
      "1834\n"
     ]
    }
   ],
   "source": [
    "order_num = [int(row[0]) for row in chipotle_data]\n",
    "\n",
    "highest_ord = max(set(order_num))\n",
    "##find max order number\n",
    "print highest_ord"
   ]
  },
  {
   "cell_type": "markdown",
   "metadata": {},
   "source": [
    "* calculate the average price of an order and round to 2 digits"
   ]
  },
  {
   "cell_type": "code",
   "execution_count": 78,
   "metadata": {
    "collapsed": false
   },
   "outputs": [
    {
     "name": "stdout",
     "output_type": "stream",
     "text": [
      "21.39\n"
     ]
    }
   ],
   "source": [
    "total_order_cost = 0\n",
    "\n",
    "for cost in item_cost:\n",
    "    total_order_cost += cost\n",
    "\n",
    "avg_cost = round((total_order_cost/highest_ord),2)\n",
    "print avg_cost\n"
   ]
  },
  {
   "cell_type": "markdown",
   "metadata": {},
   "source": [
    "INTERMEDIATE LEVEL\n",
    "PART 4: Create a list (or set) of all unique sodas and soft drinks that they sell.\n",
    "Note: Just look for 'Canned Soda' and 'Canned Soft Drink', and ignore other drinks like 'Izze'."
   ]
  },
  {
   "cell_type": "code",
   "execution_count": 98,
   "metadata": {
    "collapsed": false
   },
   "outputs": [
    {
     "data": {
      "text/plain": [
       "{'Coca Cola',\n",
       " 'Coke',\n",
       " 'Diet Coke',\n",
       " 'Diet Dr. Pepper',\n",
       " 'Dr. Pepper',\n",
       " 'Lemonade',\n",
       " 'Mountain Dew',\n",
       " 'Nestea',\n",
       " 'Sprite'}"
      ]
     },
     "execution_count": 98,
     "metadata": {},
     "output_type": "execute_result"
    }
   ],
   "source": [
    "all_sodas = []\n",
    "\n",
    "for thing in chipotle_data:\n",
    "    if 'Canned Soda' in thing[2]:\n",
    "        all_sodas.append(thing[3].replace(\"[\",\"\").replace(\"]\",\"\"))\n",
    "    elif 'Canned Soft Drink' in thing[2]:\n",
    "        all_sodas.append(thing[3].replace(\"[\",\"\").replace(\"]\",\"\"))\n",
    "    else:\n",
    "        pass\n",
    "\n",
    "##print all_sodas[4:12]\n",
    "##preview of data\n",
    "\n",
    "set(all_sodas)"
   ]
  },
  {
   "cell_type": "markdown",
   "metadata": {},
   "source": [
    "ADVANCED LEVEL\n",
    "PART 5: Calculate the average number of toppings per burrito.\n",
    "Note: Let's ignore the 'quantity' column to simplify this task.\n",
    "Hint: Think carefully about the easiest way to count the number of toppings!"
   ]
  },
  {
   "cell_type": "code",
   "execution_count": 99,
   "metadata": {
    "collapsed": false
   },
   "outputs": [
    {
     "name": "stdout",
     "output_type": "stream",
     "text": [
      "['order_id', 'quantity', 'item_name', 'choice_description', 'item_price']\n"
     ]
    }
   ],
   "source": [
    "print chipotle_header"
   ]
  },
  {
   "cell_type": "code",
   "execution_count": 100,
   "metadata": {
    "collapsed": false
   },
   "outputs": [
    {
     "data": {
      "text/plain": [
       "['NULL',\n",
       " '[Clementine]',\n",
       " '[Apple]',\n",
       " 'NULL',\n",
       " '[Tomatillo-Red Chili Salsa (Hot), [Black Beans, Rice, Cheese, Sour Cream]]',\n",
       " '[Fresh Tomato Salsa (Mild), [Rice, Cheese, Sour Cream, Guacamole, Lettuce]]',\n",
       " 'NULL',\n",
       " '[Tomatillo Red Chili Salsa, [Fajita Vegetables, Black Beans, Pinto Beans, Cheese, Sour Cream, Guacamole, Lettuce]]',\n",
       " '[Tomatillo Green Chili Salsa, [Pinto Beans, Cheese, Sour Cream, Lettuce]]',\n",
       " '[Fresh Tomato Salsa, [Rice, Black Beans, Pinto Beans, Cheese, Sour Cream, Lettuce]]',\n",
       " 'NULL',\n",
       " '[Roasted Chili Corn Salsa, [Fajita Vegetables, Rice, Black Beans, Cheese, Sour Cream]]',\n",
       " '[Roasted Chili Corn Salsa, [Rice, Black Beans, Cheese, Sour Cream]]',\n",
       " '[Fresh Tomato Salsa, [Fajita Vegetables, Rice, Cheese, Sour Cream, Guacamole]]',\n",
       " 'NULL',\n",
       " 'NULL',\n",
       " '[Tomatillo-Green Chili Salsa (Medium), [Pinto Beans, Cheese, Sour Cream]]',\n",
       " '[Fresh Tomato Salsa (Mild), [Black Beans, Rice, Cheese, Sour Cream, Lettuce]]',\n",
       " '[Sprite]',\n",
       " '[Tomatillo Red Chili Salsa, [Fajita Vegetables, Black Beans, Sour Cream, Cheese, Lettuce]]']"
      ]
     },
     "execution_count": 100,
     "metadata": {},
     "output_type": "execute_result"
    }
   ],
   "source": [
    "[thing[3] for thing in chipotle_data[:20]]"
   ]
  },
  {
   "cell_type": "code",
   "execution_count": null,
   "metadata": {
    "collapsed": true
   },
   "outputs": [],
   "source": []
  }
 ],
 "metadata": {
  "kernelspec": {
   "display_name": "Python 2",
   "language": "python",
   "name": "python2"
  },
  "language_info": {
   "codemirror_mode": {
    "name": "ipython",
    "version": 2
   },
   "file_extension": ".py",
   "mimetype": "text/x-python",
   "name": "python",
   "nbconvert_exporter": "python",
   "pygments_lexer": "ipython2",
   "version": "2.7.11"
  }
 },
 "nbformat": 4,
 "nbformat_minor": 0
}
