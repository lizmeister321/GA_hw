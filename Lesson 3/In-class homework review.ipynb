{
 "cells": [
  {
   "cell_type": "code",
   "execution_count": 7,
   "metadata": {
    "collapsed": false
   },
   "outputs": [],
   "source": [
    "with open ('./chipotle.tsv', 'rU') as inFile:\n",
    "    file_nested_list = inFile.read()"
   ]
  },
  {
   "cell_type": "code",
   "execution_count": 11,
   "metadata": {
    "collapsed": false
   },
   "outputs": [
    {
     "data": {
      "text/plain": [
       "'order_id\\tquantity\\titem_name\\tchoice_description\\titem_price\\n1\\t1\\tChips and Fresh Tomato Salsa\\tNULL\\t$2.39 \\n1\\t1\\tIzze\\t[Clementine]\\t$3.39 \\n1\\t1\\tNantucket Nectar\\t[Apple]\\t$3.39 \\n1\\t1\\tChips and Tomatillo-Green Chili Salsa\\tNULL\\t$2.39 \\n2\\t2\\tChicken Bowl\\t[Tomatillo-Red Chili Salsa (Hot), [Black Beans, Rice, Cheese, Sour Cream]]\\t$16.98 \\n3\\t1\\tChicken Bowl\\t[Fresh Tomato Salsa (Mild), [Rice, Cheese, Sour Cream, Guacamole, Lettuce]]\\t$10.98 \\n3\\t1\\tSide of Chips\\tNULL\\t$1.69 \\n4\\t1\\tSteak Burrito\\t[Tomatillo Red Chili Salsa, [Fajita Vegetables, Black Beans, Pinto Beans, Cheese, Sour Cream, Guacamole, Lettuce]]\\t$11.75 \\n4\\t1\\tSteak Soft Tacos\\t[Tomatillo Green Chili Salsa, [Pinto Beans, Cheese, Sour Cream, Lettuce]]\\t$9.25 \\n5\\t1\\tSteak Burrito\\t[Fresh Tomato Salsa, [Rice, Black Beans, Pinto Beans, Cheese, Sour Cream, Lettuce]]\\t$9.25 \\n5\\t1\\tChips and Guacamole\\tNULL\\t$4.45 \\n6\\t1\\tChicken Crispy Tacos\\t[Roasted Chili Corn Salsa, [Fajita Vegetables, Rice, Black Beans, Cheese, Sour Cream]]\\t$8.75 \\n6\\t1\\tChicken Soft Tacos\\t[Roasted Chili Co'"
      ]
     },
     "execution_count": 11,
     "metadata": {},
     "output_type": "execute_result"
    }
   ],
   "source": [
    "file_nested_list[:1000]"
   ]
  },
  {
   "cell_type": "code",
   "execution_count": 19,
   "metadata": {
    "collapsed": false
   },
   "outputs": [
    {
     "data": {
      "text/plain": [
       "1834"
      ]
     },
     "execution_count": 19,
     "metadata": {},
     "output_type": "execute_result"
    }
   ],
   "source": [
    "import csv\n",
    "\n",
    "with open ('./chipotle.tsv', 'rU') as raw_file:\n",
    "    file_nested_list = [row for row in csv.reader(raw_file, delimiter = '\\t')]\n",
    "    \n",
    "chipotle_header = file_nested_list[0]\n",
    "\n",
    "chipotle_data = file_nested_list[1:]\n",
    "\n",
    "how_many = int(chipotle_data[-1][0])\n",
    "\n",
    "how_many"
   ]
  },
  {
   "cell_type": "code",
   "execution_count": 17,
   "metadata": {
    "collapsed": false
   },
   "outputs": [
    {
     "data": {
      "text/plain": [
       "34500.16000000046"
      ]
     },
     "execution_count": 17,
     "metadata": {},
     "output_type": "execute_result"
    }
   ],
   "source": [
    "total_price = 0\n",
    "\n",
    "for (_,_,_,_,price) in chipotle_data:\n",
    "        total_price += float(price[1:])\n",
    "\n",
    "##with underscores, you now have 5 columns, one is named \"price\" and other 4 are just blank\n",
    "\n",
    "total_price\n",
    "\n"
   ]
  },
  {
   "cell_type": "code",
   "execution_count": 41,
   "metadata": {
    "collapsed": false
   },
   "outputs": [
    {
     "name": "stdout",
     "output_type": "stream",
     "text": [
      "18.81\n",
      "18.8114285714\n"
     ]
    }
   ],
   "source": [
    "avg = total_price/how_many\n",
    "print round(avg,2)\n",
    "print avg"
   ]
  },
  {
   "cell_type": "code",
   "execution_count": 26,
   "metadata": {
    "collapsed": false
   },
   "outputs": [
    {
     "data": {
      "text/plain": [
       "[['1', '1', 'Chips and Fresh Tomato Salsa', 'NULL', '$2.39 '],\n",
       " ['1', '1', 'Izze', '[Clementine]', '$3.39 '],\n",
       " ['1', '1', 'Nantucket Nectar', '[Apple]', '$3.39 '],\n",
       " ['1', '1', 'Chips and Tomatillo-Green Chili Salsa', 'NULL', '$2.39 '],\n",
       " ['2',\n",
       "  '2',\n",
       "  'Chicken Bowl',\n",
       "  '[Tomatillo-Red Chili Salsa (Hot), [Black Beans, Rice, Cheese, Sour Cream]]',\n",
       "  '$16.98 '],\n",
       " ['3',\n",
       "  '1',\n",
       "  'Chicken Bowl',\n",
       "  '[Fresh Tomato Salsa (Mild), [Rice, Cheese, Sour Cream, Guacamole, Lettuce]]',\n",
       "  '$10.98 '],\n",
       " ['3', '1', 'Side of Chips', 'NULL', '$1.69 '],\n",
       " ['4',\n",
       "  '1',\n",
       "  'Steak Burrito',\n",
       "  '[Tomatillo Red Chili Salsa, [Fajita Vegetables, Black Beans, Pinto Beans, Cheese, Sour Cream, Guacamole, Lettuce]]',\n",
       "  '$11.75 '],\n",
       " ['4',\n",
       "  '1',\n",
       "  'Steak Soft Tacos',\n",
       "  '[Tomatillo Green Chili Salsa, [Pinto Beans, Cheese, Sour Cream, Lettuce]]',\n",
       "  '$9.25 '],\n",
       " ['5',\n",
       "  '1',\n",
       "  'Steak Burrito',\n",
       "  '[Fresh Tomato Salsa, [Rice, Black Beans, Pinto Beans, Cheese, Sour Cream, Lettuce]]',\n",
       "  '$9.25 '],\n",
       " ['5', '1', 'Chips and Guacamole', 'NULL', '$4.45 '],\n",
       " ['6',\n",
       "  '1',\n",
       "  'Chicken Crispy Tacos',\n",
       "  '[Roasted Chili Corn Salsa, [Fajita Vegetables, Rice, Black Beans, Cheese, Sour Cream]]',\n",
       "  '$8.75 '],\n",
       " ['6',\n",
       "  '1',\n",
       "  'Chicken Soft Tacos',\n",
       "  '[Roasted Chili Corn Salsa, [Rice, Black Beans, Cheese, Sour Cream]]',\n",
       "  '$8.75 '],\n",
       " ['7',\n",
       "  '1',\n",
       "  'Chicken Bowl',\n",
       "  '[Fresh Tomato Salsa, [Fajita Vegetables, Rice, Cheese, Sour Cream, Guacamole]]',\n",
       "  '$11.25 '],\n",
       " ['7', '1', 'Chips and Guacamole', 'NULL', '$4.45 '],\n",
       " ['8', '1', 'Chips and Tomatillo-Green Chili Salsa', 'NULL', '$2.39 '],\n",
       " ['8',\n",
       "  '1',\n",
       "  'Chicken Burrito',\n",
       "  '[Tomatillo-Green Chili Salsa (Medium), [Pinto Beans, Cheese, Sour Cream]]',\n",
       "  '$8.49 '],\n",
       " ['9',\n",
       "  '1',\n",
       "  'Chicken Burrito',\n",
       "  '[Fresh Tomato Salsa (Mild), [Black Beans, Rice, Cheese, Sour Cream, Lettuce]]',\n",
       "  '$8.49 '],\n",
       " ['9', '2', 'Canned Soda', '[Sprite]', '$2.18 '],\n",
       " ['10',\n",
       "  '1',\n",
       "  'Chicken Bowl',\n",
       "  '[Tomatillo Red Chili Salsa, [Fajita Vegetables, Black Beans, Sour Cream, Cheese, Lettuce]]',\n",
       "  '$8.75 ']]"
      ]
     },
     "execution_count": 26,
     "metadata": {},
     "output_type": "execute_result"
    }
   ],
   "source": [
    "chipotle_header\n",
    "\n",
    "chipotle_data[0:20]"
   ]
  },
  {
   "cell_type": "code",
   "execution_count": 43,
   "metadata": {
    "collapsed": false
   },
   "outputs": [
    {
     "name": "stdout",
     "output_type": "stream",
     "text": [
      "1172.0\n",
      "6323.0\n",
      "5.4\n",
      "5.39505119454\n"
     ]
    }
   ],
   "source": [
    "topping_total = 0.0 ##values need to be floats, not ints, to be correct. Add the .0 to change datatype\n",
    "burrito_count = 0.0 ##values need to be floats, not ints, to be correct. Add the .0 to change datatype\n",
    "\n",
    "for row in chipotle_data:\n",
    "    if 'Burrito' in row[2]:\n",
    "        burrito_count += 1\n",
    "        topping_total += len(row[3].split(\",\"))\n",
    "\n",
    "print burrito_count\n",
    "print topping_total\n",
    "            \n",
    "avg_topping = topping_total/burrito_count\n",
    "print round(avg_topping,2)\n",
    "print avg_topping"
   ]
  },
  {
   "cell_type": "code",
   "execution_count": 44,
   "metadata": {
    "collapsed": false
   },
   "outputs": [
    {
     "ename": "SyntaxError",
     "evalue": "invalid syntax (<ipython-input-44-e4f90e5ee772>, line 1)",
     "output_type": "error",
     "traceback": [
      "\u001b[0;36m  File \u001b[0;32m\"<ipython-input-44-e4f90e5ee772>\"\u001b[0;36m, line \u001b[0;32m1\u001b[0m\n\u001b[0;31m    def burrito_counter(search_field,data)\u001b[0m\n\u001b[0m                                          ^\u001b[0m\n\u001b[0;31mSyntaxError\u001b[0m\u001b[0;31m:\u001b[0m invalid syntax\n"
     ]
    }
   ],
   "source": [
    "def burrito_counter(search_field,data)\n",
    "    "
   ]
  },
  {
   "cell_type": "code",
   "execution_count": 37,
   "metadata": {
    "collapsed": false
   },
   "outputs": [
    {
     "data": {
      "text/plain": [
       "['155',\n",
       " '1',\n",
       " 'Steak Burrito',\n",
       " '[Fresh Tomato Salsa (Mild), [Pinto Beans, Cheese, Sour Cream]]',\n",
       " '$8.99 ']"
      ]
     },
     "execution_count": 37,
     "metadata": {},
     "output_type": "execute_result"
    }
   ],
   "source": [
    "sample = chipotle_data[358]\n",
    "sample"
   ]
  },
  {
   "cell_type": "code",
   "execution_count": 39,
   "metadata": {
    "collapsed": false
   },
   "outputs": [
    {
     "name": "stdout",
     "output_type": "stream",
     "text": [
      "['[Fresh Tomato Salsa (Mild)', ' [Pinto Beans', ' Cheese', ' Sour Cream]]']\n",
      "4\n"
     ]
    }
   ],
   "source": [
    "print sample[3].split(\",\")\n",
    "print len(sample[3].split(\",\"))"
   ]
  },
  {
   "cell_type": "code",
   "execution_count": null,
   "metadata": {
    "collapsed": true
   },
   "outputs": [],
   "source": []
  }
 ],
 "metadata": {
  "kernelspec": {
   "display_name": "Python 2",
   "language": "python",
   "name": "python2"
  },
  "language_info": {
   "codemirror_mode": {
    "name": "ipython",
    "version": 2
   },
   "file_extension": ".py",
   "mimetype": "text/x-python",
   "name": "python",
   "nbconvert_exporter": "python",
   "pygments_lexer": "ipython2",
   "version": "2.7.11"
  }
 },
 "nbformat": 4,
 "nbformat_minor": 0
}
